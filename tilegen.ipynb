{
 "cells": [
  {
   "cell_type": "code",
   "execution_count": 18,
   "metadata": {},
   "outputs": [],
   "source": [
    "from string import ascii_uppercase as letters\n",
    "from pixels import *\n",
    "from pathlib import Path\n",
    "import json\n",
    "import os"
   ]
  },
  {
   "cell_type": "code",
   "execution_count": 21,
   "metadata": {},
   "outputs": [],
   "source": [
    "tiles = set()\n",
    "for tile in os.listdir('./tiles/'):\n",
    "    path = f'./tiles/{tile}'\n",
    "    t = Tile(path)\n",
    "    rts = set(t.rotations())\n",
    "    tiles = tiles.union(rts)\n",
    "\n",
    "# Make a directory for the new tiles\n",
    "Path('tiles-new').mkdir(parents=True, exist_ok=True)\n",
    "\n",
    "# Save every tile\n",
    "for i, t in enumerate(list(tiles)):\n",
    "    image = t.image\n",
    "    image.save(f'./tiles-new/tile_{i}.png')"
   ]
  },
  {
   "cell_type": "code",
   "execution_count": 22,
   "metadata": {},
   "outputs": [
    {
     "data": {
      "text/plain": [
       "{d#706D5C, d#D7C660, l#12DC37}"
      ]
     },
     "execution_count": 22,
     "metadata": {},
     "output_type": "execute_result"
    }
   ],
   "source": [
    "colors = set.union(*[tile.colors for tile in rts])\n",
    "colors"
   ]
  },
  {
   "cell_type": "code",
   "execution_count": 23,
   "metadata": {},
   "outputs": [],
   "source": [
    "for i, c in enumerate(colors):\n",
    "    c.alias = letters[i]"
   ]
  },
  {
   "cell_type": "code",
   "execution_count": 24,
   "metadata": {},
   "outputs": [],
   "source": [
    "# Load every tile from the pregenerated tileset\n",
    "tiles = []\n",
    "for tile in os.listdir('./tiles-new/'):\n",
    "    filename = f'./tiles-new/{tile}'\n",
    "    if os.path.isfile(filename):\n",
    "        if filename[-3:] == 'png':\n",
    "            tiles.append(Tile(filename))"
   ]
  },
  {
   "cell_type": "code",
   "execution_count": 25,
   "metadata": {},
   "outputs": [],
   "source": [
    "json_object = {\n",
    "    'colors': [ {color.alias:color.asTuple()} for color in sorted(list(colors), key = lambda x:x.alias)],\n",
    "    'tiles': sorted([t.asGlobalDict(colors) for t in tiles],\n",
    "                    key = lambda x:\n",
    "                                   int(x['name'].split('_')[1].split('.')[0]))\n",
    "}\n",
    "\n",
    "\n",
    "with open('tiles.json','w') as fp:\n",
    "    json.dump(fp=fp, obj=json_object, indent=3)"
   ]
  },
  {
   "cell_type": "code",
   "execution_count": null,
   "metadata": {},
   "outputs": [],
   "source": []
  }
 ],
 "metadata": {
  "kernelspec": {
   "display_name": "Python 3.10.1 64-bit",
   "language": "python",
   "name": "python3"
  },
  "language_info": {
   "codemirror_mode": {
    "name": "ipython",
    "version": 3
   },
   "file_extension": ".py",
   "mimetype": "text/x-python",
   "name": "python",
   "nbconvert_exporter": "python",
   "pygments_lexer": "ipython3",
   "version": "3.10.1"
  },
  "orig_nbformat": 4,
  "vscode": {
   "interpreter": {
    "hash": "369f2c481f4da34e4445cda3fffd2e751bd1c4d706f27375911949ba6bb62e1c"
   }
  }
 },
 "nbformat": 4,
 "nbformat_minor": 2
}
