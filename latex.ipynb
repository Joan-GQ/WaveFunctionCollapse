{
 "cells": [
  {
   "cell_type": "code",
   "execution_count": 1,
   "metadata": {},
   "outputs": [],
   "source": [
    "from fmatrix import *"
   ]
  },
  {
   "cell_type": "code",
   "execution_count": 35,
   "metadata": {},
   "outputs": [],
   "source": [
    "m = [[41, 18, 55, 47, 14],\n",
    " [-1, 46, 53, 45, 56],\n",
    " [-1, 46, 21, 28, 12],\n",
    " [-1, -1, -1, 65, 18],\n",
    " [-1, -1, -1, -1, -1]]\n",
    "m = Matrix(m)"
   ]
  },
  {
   "cell_type": "code",
   "execution_count": 36,
   "metadata": {},
   "outputs": [
    {
     "name": "stdout",
     "output_type": "stream",
     "text": [
      "\\begin{bmatrix}\n",
      "41&18&55&47&14\\\\ \n",
      "-1&46&53&45&56\\\\ \n",
      "-1&46&21&28&12\\\\ \n",
      "-1&-1&-1&65&18\\\\ \n",
      "-1&-1&-1&-1&-1\n",
      "\\end{bmatrix}\n"
     ]
    }
   ],
   "source": [
    "a = m[0,0]\n",
    "b = m[0,1]\n",
    "c = m[0,2]\n",
    "d = m[0,3]\n",
    "e = m[0,4]\n",
    "f = m[1,0]\n",
    "g = m[1,1]\n",
    "h = m[1,2]\n",
    "i = m[1,3]\n",
    "j = m[1,4]\n",
    "k = m[2,0]\n",
    "l = m[2,1]\n",
    "m_ = m[2,2]\n",
    "n = m[2,3]\n",
    "o = m[2,4]\n",
    "p = m[3,0]\n",
    "q = m[3,1]\n",
    "r = m[3,2]\n",
    "s = m[3,3]\n",
    "t = m[3,4]\n",
    "u = m[4,0]\n",
    "v = m[4,1]\n",
    "w = m[4,2]\n",
    "x = m[4,3]\n",
    "y = m[4,4]\n",
    "\n",
    "\n",
    "print(f'''\\\\begin{{bmatrix}}\n",
    "{a}&{b}&{c}&{d}&{e}\\\\\\\\ \n",
    "{f}&{g}&{h}&{i}&{j}\\\\\\\\ \n",
    "{k}&{l}&{m_}&{n}&{o}\\\\\\\\ \n",
    "{p}&{q}&{r}&{s}&{t}\\\\\\\\ \n",
    "{u}&{v}&{w}&{x}&{y}\n",
    "\\\\end{{bmatrix}}''')"
   ]
  },
  {
   "cell_type": "code",
   "execution_count": null,
   "metadata": {},
   "outputs": [],
   "source": []
  }
 ],
 "metadata": {
  "kernelspec": {
   "display_name": "Python 3.10.1 64-bit",
   "language": "python",
   "name": "python3"
  },
  "language_info": {
   "codemirror_mode": {
    "name": "ipython",
    "version": 3
   },
   "file_extension": ".py",
   "mimetype": "text/x-python",
   "name": "python",
   "nbconvert_exporter": "python",
   "pygments_lexer": "ipython3",
   "version": "3.10.1"
  },
  "orig_nbformat": 4,
  "vscode": {
   "interpreter": {
    "hash": "369f2c481f4da34e4445cda3fffd2e751bd1c4d706f27375911949ba6bb62e1c"
   }
  }
 },
 "nbformat": 4,
 "nbformat_minor": 2
}
