{
 "cells": [
  {
   "cell_type": "code",
   "execution_count": 1,
   "metadata": {},
   "outputs": [],
   "source": [
    "from typing import List, Dict\n",
    "from pixels import *\n",
    "from fmatrix import *\n",
    "import random\n",
    "import numpy as np\n",
    "import json"
   ]
  },
  {
   "cell_type": "code",
   "execution_count": 2,
   "metadata": {},
   "outputs": [],
   "source": [
    "def find_matrix_center(matrix:Matrix):\n",
    "    if matrix.size % 2 != 0:\n",
    "        return (matrix.size//2,)*2\n",
    "    else:\n",
    "        raise Exception(\"Non odd sized matrix\")"
   ]
  },
  {
   "cell_type": "code",
   "execution_count": 3,
   "metadata": {},
   "outputs": [],
   "source": [
    "class Board:\n",
    "    def __init__(self, tile_options:List[Dict]):\n",
    "        # TODO: Change fixed size of 5x5\n",
    "        self.__m__ = np.tile(-1, (5,5)).tolist()\n",
    "        self.__m__ = Matrix(self.__m__)\n",
    "        self.__options__ = tile_options\n",
    "    \n",
    "    def global_decision_space(self) -> List[int]:\n",
    "        return list(range(len(self.__options__)))\n",
    "    \n",
    "    def cell_decision_space(self, pos:Tuple[int,int]) -> Set[int]:\n",
    "        return set()\n",
    "\n",
    "    def collapse(self, pos:Tuple[int,int], decision_space=List[int]):\n",
    "        if pos[0] > self.__m__.size or pos[1] > self.__m__.size:\n",
    "            raise Exception(\"Invalid position\")\n",
    "\n",
    "        cell = self.__m__[pos]\n",
    "\n",
    "        if cell != -1: # Collapsed cell\n",
    "            return self\n",
    "        else: # Uncollapsed cell\n",
    "            choice = random.choice(decision_space)\n",
    "            self.__m__.setAt(pos = pos,\n",
    "                    n   = choice)\n",
    "            return self\n",
    "\n",
    "    def collapse_center(self, initial_decisions:List[int]):\n",
    "        return self.collapse(pos = find_matrix_center(self.__m__), decision_space = initial_decisions)\n",
    "    \n",
    "    def collapse_neighbours(self, pos:Tuple[int,int]):\n",
    "        cell = self.__m__[pos]\n",
    "        if cell == -1:\n",
    "            raise Exception(\"Cannot collapse neighbours of non-collapsed cell.\")\n",
    "        \n",
    "        # TODO: fmatrix reverse coordinates\n",
    "        y, x = pos\n",
    "\n",
    "        up_decision    = self.__options__[cell]['connections'][0]\n",
    "        right_decision = self.__options__[cell]['connections'][1]\n",
    "        down_decision  = self.__options__[cell]['connections'][2]\n",
    "        left_decision  = self.__options__[cell]['connections'][3]\n",
    "\n",
    "        self.collapse(pos=(y-1, x+0), decision_space = up_decision)\n",
    "        self.collapse(pos=(y+0, x+1), decision_space = right_decision)\n",
    "        self.collapse(pos=(y+1, x+0), decision_space = down_decision)\n",
    "        self.collapse(pos=(y+0, x-1), decision_space = left_decision)\n",
    "        return self\n",
    "    "
   ]
  },
  {
   "cell_type": "code",
   "execution_count": 4,
   "metadata": {},
   "outputs": [],
   "source": [
    "tiles = []\n",
    "with open('tile-connections.json', 'r') as fp:\n",
    "    tiles = json.load(fp=fp)"
   ]
  },
  {
   "cell_type": "code",
   "execution_count": 5,
   "metadata": {},
   "outputs": [
    {
     "data": {
      "text/plain": [
       "[[-1, -1, -1, -1, -1],\n",
       " [-1, -1, -1, -1, -1],\n",
       " [-1, -1, -1, -1, -1],\n",
       " [-1, -1, -1, -1, -1],\n",
       " [-1, -1, -1, -1, -1]]"
      ]
     },
     "execution_count": 5,
     "metadata": {},
     "output_type": "execute_result"
    }
   ],
   "source": [
    "b = Board(tiles)\n",
    "b.__m__.rows()"
   ]
  },
  {
   "cell_type": "code",
   "execution_count": 6,
   "metadata": {},
   "outputs": [
    {
     "data": {
      "text/plain": [
       "[[-1, -1, -1, -1, -1],\n",
       " [-1, -1, -1, -1, -1],\n",
       " [-1, -1, 18, -1, -1],\n",
       " [-1, -1, -1, -1, -1],\n",
       " [-1, -1, -1, -1, -1]]"
      ]
     },
     "execution_count": 6,
     "metadata": {},
     "output_type": "execute_result"
    }
   ],
   "source": [
    "b.collapse_center(list(range(len(tiles))))\n",
    "b.__m__.rows()"
   ]
  },
  {
   "cell_type": "code",
   "execution_count": 7,
   "metadata": {},
   "outputs": [
    {
     "data": {
      "text/plain": [
       "[[-1, -1, -1, -1, -1],\n",
       " [-1, -1, 23, -1, -1],\n",
       " [-1, 27, 18, 64, -1],\n",
       " [-1, -1, 9, -1, -1],\n",
       " [-1, -1, -1, -1, -1]]"
      ]
     },
     "execution_count": 7,
     "metadata": {},
     "output_type": "execute_result"
    }
   ],
   "source": [
    "b.collapse_neighbours((2,2))\n",
    "b.__m__.rows()"
   ]
  },
  {
   "cell_type": "code",
   "execution_count": 8,
   "metadata": {},
   "outputs": [],
   "source": [
    "# TODO: tile_42 left connections includes invalid tile 34\n",
    "# TODO: Take the matrix:\n",
    "# [[-1, -1, -1, -1, -1],\n",
    "#  [-1, -1, 23, -1, -1],\n",
    "#  [-1, 27, 18, 64, -1],\n",
    "#  [-1, -1, 9, -1, -1],\n",
    "#  [-1, -1, -1, -1, -1]]\n",
    "# The decision space of [3,3] is the intersection of the decision spaces of [2,3] and [3,2]\n",
    "# The decision space of a cell which value is -1 should be the "
   ]
  },
  {
   "cell_type": "code",
   "execution_count": null,
   "metadata": {},
   "outputs": [],
   "source": []
  },
  {
   "cell_type": "code",
   "execution_count": null,
   "metadata": {},
   "outputs": [],
   "source": []
  }
 ],
 "metadata": {
  "kernelspec": {
   "display_name": "Python 3.10.1 64-bit",
   "language": "python",
   "name": "python3"
  },
  "language_info": {
   "codemirror_mode": {
    "name": "ipython",
    "version": 3
   },
   "file_extension": ".py",
   "mimetype": "text/x-python",
   "name": "python",
   "nbconvert_exporter": "python",
   "pygments_lexer": "ipython3",
   "version": "3.10.1"
  },
  "orig_nbformat": 4,
  "vscode": {
   "interpreter": {
    "hash": "369f2c481f4da34e4445cda3fffd2e751bd1c4d706f27375911949ba6bb62e1c"
   }
  }
 },
 "nbformat": 4,
 "nbformat_minor": 2
}
